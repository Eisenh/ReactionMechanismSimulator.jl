{
 "cells": [
  {
   "cell_type": "code",
   "execution_count": null,
   "id": "d8959011",
   "metadata": {},
   "outputs": [],
   "source": [
    "using ReactionMechanismSimulator\n",
    "using Sundials"
   ]
  },
  {
   "cell_type": "code",
   "execution_count": null,
   "id": "e3443297",
   "metadata": {},
   "outputs": [],
   "source": [
    "phaseDict = readinput(\"../src/testing/superminimal_broken.rms\")"
   ]
  },
  {
   "cell_type": "code",
   "execution_count": null,
   "id": "a4080782",
   "metadata": {},
   "outputs": [],
   "source": [
    "spcs = phaseDict[\"phase\"][\"Species\"];\n",
    "rxns = phaseDict[\"phase\"][\"Reactions\"];"
   ]
  },
  {
   "cell_type": "code",
   "execution_count": null,
   "id": "0c5ec283",
   "metadata": {},
   "outputs": [],
   "source": [
    "ig = IdealGas(spcs,rxns;name=\"gas\");\n",
    "initialconds = Dict([\"T\"=>1000.0,\"P\"=>1e5,\"H2\"=>0.67,\"O2\"=>0.33]) #Set simulation Initial Temp and Pressure\n",
    "domain,y0,p = ConstantTPDomain(phase=ig,initialconds=initialconds); #Define the domain (encodes how system thermodynamic properties calculated)\n",
    "react = Reactor(domain,y0,(0.0,150.11094);p=p); #Create the reactor object"
   ]
  },
  {
   "cell_type": "code",
   "execution_count": null,
   "id": "b0070a89",
   "metadata": {},
   "outputs": [],
   "source": [
    "sol = solve(react.ode,CVODE_BDF(),abstol=1e-20,reltol=1e-12); #solve the ode associated with the reactor"
   ]
  },
  {
   "cell_type": "code",
   "execution_count": null,
   "id": "a5af29f3",
   "metadata": {},
   "outputs": [],
   "source": [
    "sim = Simulation(sol,domain,[],p);"
   ]
  },
  {
   "cell_type": "code",
   "execution_count": null,
   "id": "d56edf4c",
   "metadata": {},
   "outputs": [],
   "source": [
    "dmech = analyzecrash(sim;tol=1e6)"
   ]
  },
  {
   "cell_type": "code",
   "execution_count": null,
   "id": "a6fce515",
   "metadata": {},
   "outputs": [],
   "source": [
    "printcrashanalysis(dmech)"
   ]
  },
  {
   "cell_type": "code",
   "execution_count": null,
   "id": "72d50ca3",
   "metadata": {},
   "outputs": [],
   "source": []
  }
 ],
 "metadata": {
  "@webio": {
   "lastCommId": null,
   "lastKernelId": null
  },
  "kernelspec": {
   "display_name": "Julia 1.9.0",
   "language": "julia",
   "name": "julia-1.9"
  },
  "language_info": {
   "file_extension": ".jl",
   "mimetype": "application/julia",
   "name": "julia",
   "version": "1.9.0"
  }
 },
 "nbformat": 4,
 "nbformat_minor": 5
}
